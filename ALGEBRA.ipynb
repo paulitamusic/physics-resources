{
 "cells": [
  {
   "cell_type": "markdown",
   "metadata": {},
   "source": [
    "## Quadratic Equation"
   ]
  },
  {
   "cell_type": "markdown",
   "metadata": {},
   "source": [
    "A quadratic equation is set up as the following:\n",
    "\n",
    "$$ax^2 + bx + c = 0$$\n",
    "\n",
    "where a and b are leading coefficents and c is the y-intercept. These are all constants. \n",
    "To find the value of x, one must use the quadratic formula:\n",
    "\n",
    "$$x=\\frac{-b\\pm\\sqrt{b^2-4ac}}{2a}$$"
   ]
  },
  {
   "cell_type": "markdown",
   "metadata": {},
   "source": [
    "### Example\n",
    "$ x^2 + 2x - 8 = 0 $\n",
    "* The value for a is 1\n",
    "* The value for b is 2\n",
    "* The value for c is -8\n",
    "\n",
    "When plugging in these values for the quadratic formula, these are the results:\n",
    "\n",
    "$$ x = \\frac{-2\\pm\\sqrt{2^2-4(1)(-8)}}{2(1)}$$\n",
    "\n",
    "$$ x = -4; x = 2$$\n",
    "\n"
   ]
  }
 ],
 "metadata": {
  "kernelspec": {
   "display_name": "Python 3",
   "language": "python",
   "name": "python3"
  },
  "language_info": {
   "codemirror_mode": {
    "name": "ipython",
    "version": 3
   },
   "file_extension": ".py",
   "mimetype": "text/x-python",
   "name": "python",
   "nbconvert_exporter": "python",
   "pygments_lexer": "ipython3",
   "version": "3.4.4"
  }
 },
 "nbformat": 4,
 "nbformat_minor": 0
}
